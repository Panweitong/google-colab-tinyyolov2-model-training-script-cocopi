{
  "cells": [
    {
      "cell_type": "code",
      "execution_count": null,
      "metadata": {
        "id": "L2JpyYJ83I8W"
      },
      "outputs": [],
      "source": [
        "!pip install torch torchvision torchaudio torchsummary pycocotools opencv-python opencv-contrib-python"
      ]
    },
    {
      "cell_type": "code",
      "execution_count": null,
      "metadata": {
        "id": "tDpHsWk83UuC"
      },
      "outputs": [],
      "source": [
        "!apt-get -qq install -y build-essential git cmake libprotobuf-dev protobuf-compiler libvulkan-dev vulkan-utils libopencv-dev"
      ]
    },
    {
      "cell_type": "code",
      "execution_count": null,
      "metadata": {
        "id": "s6d0tJJ83fq0"
      },
      "outputs": [],
      "source": [
        "from google.colab import drive\n",
        "drive.mount('/content/gdrive')"
      ]
    },
    {
      "cell_type": "code",
      "execution_count": null,
      "metadata": {
        "id": "3-OBRt0r3kAe"
      },
      "outputs": [],
      "source": [
        "%ls /content/gdrive/My\\ Drive/"
      ]
    },
    {
      "cell_type": "code",
      "execution_count": null,
      "metadata": {
        "id": "biMDEtfW3mNw"
      },
      "outputs": [],
      "source": [
        "!git clone https://github.com/Tencent/ncnn.git"
      ]
    },
    {
      "cell_type": "code",
      "execution_count": null,
      "metadata": {
        "id": "RQMaWqHf5LAs"
      },
      "outputs": [],
      "source": [
        "%cd ncnn"
      ]
    },
    {
      "cell_type": "code",
      "execution_count": null,
      "metadata": {
        "id": "aZhK0-595OK-"
      },
      "outputs": [],
      "source": [
        "!git checkout a03c1353193a172bfc22481195704731f75148d9"
      ]
    },
    {
      "cell_type": "code",
      "execution_count": null,
      "metadata": {
        "id": "vVCz1EG95SIG"
      },
      "outputs": [],
      "source": [
        "!git submodule update --init"
      ]
    },
    {
      "cell_type": "code",
      "execution_count": 9,
      "metadata": {
        "id": "KxPX-eSO5vGA"
      },
      "outputs": [],
      "source": [
        "!mkdir build"
      ]
    },
    {
      "cell_type": "code",
      "execution_count": null,
      "metadata": {
        "id": "59ecf-si5xDj"
      },
      "outputs": [],
      "source": [
        "%cd build"
      ]
    },
    {
      "cell_type": "code",
      "execution_count": null,
      "metadata": {
        "id": "zILDc6CJ69wH"
      },
      "outputs": [],
      "source": [
        "!cmake -DCMAKE_BUILD_TYPE=Release -DNCNN_VULKAN=ON -DNCNN_SYSTEM_GLSLANG=OFF -DNCNN_BUILD_EXAMPLES=ON .."
      ]
    },
    {
      "cell_type": "code",
      "execution_count": null,
      "metadata": {
        "id": "JpFz8HN97M-d"
      },
      "outputs": [],
      "source": [
        "!make"
      ]
    },
    {
      "cell_type": "code",
      "execution_count": 13,
      "metadata": {
        "id": "hCNm5mSEDKd5"
      },
      "outputs": [],
      "source": [
        "!cp /content/ncnn/build/tools/onnx/onnx2ncnn /usr/bin/onnx2ncnn"
      ]
    },
    {
      "cell_type": "code",
      "execution_count": null,
      "metadata": {
        "id": "NXY07eJfDSVB"
      },
      "outputs": [],
      "source": [
        "%cd /content"
      ]
    },
    {
      "cell_type": "code",
      "execution_count": null,
      "metadata": {
        "id": "5H8JFu1dDN8A"
      },
      "outputs": [],
      "source": [
        "!git clone https://github.com/Panweitong/google-colab-tinyyolov2-model-training-script-cocopi toolkit"
      ]
    },
    {
      "cell_type": "code",
      "execution_count": null,
      "metadata": {
        "id": "EkuWH3PWFPBN"
      },
      "outputs": [],
      "source": [
        "%cd /content/toolkit/"
      ]
    },
    {
      "cell_type": "code",
      "execution_count": null,
      "metadata": {
        "id": "07lRepitFj8b"
      },
      "outputs": [],
      "source": [
        "!python generate_conf.py"
      ]
    },
    {
      "cell_type": "code",
      "execution_count": null,
      "metadata": {
        "id": "laMLq-XgFxbJ"
      },
      "outputs": [],
      "source": [
        "!python train.py"
      ]
    }
  ],
  "metadata": {
    "colab": {
      "provenance": []
    },
    "kernelspec": {
      "display_name": "Python 3.8.5 64-bit",
      "language": "python",
      "name": "python3"
    },
    "language_info": {
      "name": "python",
      "version": "3.8.5"
    },
    "vscode": {
      "interpreter": {
        "hash": "ffbfc792e496a15b6b750fac43e7a9afdc7c26545a7abda9dc172ad3cb978227"
      }
    }
  },
  "nbformat": 4,
  "nbformat_minor": 0
}
