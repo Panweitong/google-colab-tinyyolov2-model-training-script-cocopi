{
  "nbformat": 4,
  "nbformat_minor": 0,
  "metadata": {
    "colab": {
      "provenance": []
    },
    "kernelspec": {
      "name": "python3",
      "display_name": "Python 3"
    },
    "language_info": {
      "name": "python"
    }
  },
  "cells": [
    {
      "cell_type": "code",
      "source": [
        "!pip install torch torchvision torchaudio torchsummary pycocotools opencv-python opencv-contrib-python"
      ],
      "metadata": {
        "id": "L2JpyYJ83I8W"
      },
      "execution_count": null,
      "outputs": []
    },
    {
      "cell_type": "code",
      "source": [
        "!apt-get -qq install -y build-essential git cmake libprotobuf-dev protobuf-compiler libvulkan-dev vulkan-utils libopencv-dev"
      ],
      "metadata": {
        "id": "tDpHsWk83UuC"
      },
      "execution_count": null,
      "outputs": []
    },
    {
      "cell_type": "code",
      "source": [
        "from google.colab import drive\n",
        "drive.mount('/content/gdrive')"
      ],
      "metadata": {
        "id": "s6d0tJJ83fq0"
      },
      "execution_count": null,
      "outputs": []
    },
    {
      "cell_type": "code",
      "source": [
        "%ls /content/gdrive/My\\ Drive/"
      ],
      "metadata": {
        "id": "3-OBRt0r3kAe"
      },
      "execution_count": null,
      "outputs": []
    },
    {
      "cell_type": "code",
      "source": [
        "!git clone https://github.com/Tencent/ncnn.git"
      ],
      "metadata": {
        "id": "biMDEtfW3mNw"
      },
      "execution_count": null,
      "outputs": []
    },
    {
      "cell_type": "code",
      "source": [
        "%cd ncnn"
      ],
      "metadata": {
        "id": "RQMaWqHf5LAs"
      },
      "execution_count": null,
      "outputs": []
    },
    {
      "cell_type": "code",
      "source": [
        "!git checkout a03c1353193a172bfc22481195704731f75148d9"
      ],
      "metadata": {
        "id": "aZhK0-595OK-"
      },
      "execution_count": null,
      "outputs": []
    },
    {
      "cell_type": "code",
      "source": [
        "!git submodule update --init"
      ],
      "metadata": {
        "id": "vVCz1EG95SIG"
      },
      "execution_count": null,
      "outputs": []
    },
    {
      "cell_type": "code",
      "source": [
        "!mkdir build"
      ],
      "metadata": {
        "id": "KxPX-eSO5vGA"
      },
      "execution_count": 9,
      "outputs": []
    },
    {
      "cell_type": "code",
      "source": [
        "%cd build"
      ],
      "metadata": {
        "id": "59ecf-si5xDj"
      },
      "execution_count": null,
      "outputs": []
    },
    {
      "cell_type": "code",
      "source": [
        "!cmake -DCMAKE_BUILD_TYPE=Release -DNCNN_VULKAN=ON -DNCNN_SYSTEM_GLSLANG=OFF -DNCNN_BUILD_EXAMPLES=ON .."
      ],
      "metadata": {
        "id": "zILDc6CJ69wH"
      },
      "execution_count": null,
      "outputs": []
    },
    {
      "cell_type": "code",
      "source": [
        "!make"
      ],
      "metadata": {
        "id": "JpFz8HN97M-d"
      },
      "execution_count": null,
      "outputs": []
    },
    {
      "cell_type": "code",
      "source": [
        "!cp /content/ncnn/build/tools/onnx/onnx2ncnn /usr/bin/onnx2ncnn"
      ],
      "metadata": {
        "id": "hCNm5mSEDKd5"
      },
      "execution_count": 13,
      "outputs": []
    },
    {
      "cell_type": "code",
      "source": [
        "%cd /content"
      ],
      "metadata": {
        "id": "NXY07eJfDSVB"
      },
      "execution_count": null,
      "outputs": []
    },
    {
      "cell_type": "code",
      "source": [
        "!git clone https://github.com/Panweitong/google-colab-tinyyolov2-model-training-script-cocopi toolkit"
      ],
      "metadata": {
        "id": "5H8JFu1dDN8A"
      },
      "execution_count": null,
      "outputs": []
    },
    {
      "cell_type": "code",
      "source": [
        "%cd /content/toolkit/"
      ],
      "metadata": {
        "id": "EkuWH3PWFPBN"
      },
      "execution_count": null,
      "outputs": []
    },
    {
      "cell_type": "code",
      "source": [
        "!python generate_conf.py"
      ],
      "metadata": {
        "id": "07lRepitFj8b"
      },
      "execution_count": null,
      "outputs": []
    },
    {
      "cell_type": "code",
      "source": [
        "%cd /content/toolkit/conf/aaa/"
      ],
      "metadata": {
        "id": "2H9dk0JXFt0P"
      },
      "execution_count": null,
      "outputs": []
    },
    {
      "cell_type": "code",
      "source": [
        "!python train.py"
      ],
      "metadata": {
        "id": "laMLq-XgFxbJ"
      },
      "execution_count": null,
      "outputs": []
    }
  ]
}