{
  "cells": [
    {
      "cell_type": "markdown",
      "source": [
        "## **一、配置訓練環境**"
      ],
      "metadata": {
        "id": "5VubO6Zpvg2b"
      }
    },
    {
      "cell_type": "code",
      "execution_count": null,
      "metadata": {
        "id": "L2JpyYJ83I8W"
      },
      "outputs": [],
      "source": [
        "!pip install torch torchvision torchaudio torchsummary pycocotools opencv-python opencv-contrib-python onnx onnx_tf onnx2keras\n",
        "!apt-get -qq install -y build-essential git cmake libprotobuf-dev protobuf-compiler libvulkan-dev vulkan-utils libopencv-dev\n",
        "!git clone https://github.com/Tencent/ncnn.git\n",
        "%cd ncnn\n",
        "!git checkout a03c1353193a172bfc22481195704731f75148d9\n",
        "!git submodule update --init\n",
        "!mkdir build\n",
        "%cd build\n",
        "!cmake -DCMAKE_BUILD_TYPE=Release -DNCNN_VULKAN=ON -DNCNN_SYSTEM_GLSLANG=OFF -DNCNN_BUILD_EXAMPLES=ON ..\n",
        "!make\n",
        "!cp /content/ncnn/build/tools/onnx/onnx2ncnn /usr/bin/onnx2ncnn"
      ]
    },
    {
      "cell_type": "markdown",
      "source": [
        "## **二、模型訓練**"
      ],
      "metadata": {
        "id": "QTKZhhHnxZ60"
      }
    },
    {
      "cell_type": "markdown",
      "source": [
        "掛載Google Drive雲盤並驗證是否已連接 Google Drive，如果已連接則列出你的 Google Drive 根目錄下所有的文件："
      ],
      "metadata": {
        "id": "v0_nDmBXx4V-"
      }
    },
    {
      "cell_type": "code",
      "execution_count": null,
      "metadata": {
        "id": "s6d0tJJ83fq0"
      },
      "outputs": [],
      "source": [
        "# 掛載Google Drive雲盤\n",
        "from google.colab import drive\n",
        "drive.mount('/content/gdrive')\n",
        "\n",
        "# 列出你的 Google Drive 根目錄下所有的文件\n",
        "%ls /content/gdrive/My\\ Drive/"
      ]
    },
    {
      "cell_type": "markdown",
      "source": [
        "下載模型訓練工具包，並進入工具包中："
      ],
      "metadata": {
        "id": "4OI5LpqWx9wo"
      }
    },
    {
      "cell_type": "code",
      "execution_count": null,
      "metadata": {
        "id": "NXY07eJfDSVB"
      },
      "outputs": [],
      "source": [
        "%cd /content\n",
        "!git clone https://github.com/Panweitong/google-colab-tinyyolov2-model-training-script-cocopi toolkit\n",
        "%cd /content/toolkit/"
      ]
    },
    {
      "cell_type": "markdown",
      "source": [
        "將 Google Drive 中的數據集文件夾拷貝到 Google Colab 的服務器上，若你的文件夾名稱不同，需將「my-project-name」換成相應文件夾的名稱："
      ],
      "metadata": {
        "id": "StFyuDcByMMG"
      }
    },
    {
      "cell_type": "code",
      "execution_count": 4,
      "metadata": {
        "id": "iTUSGkQ4UoWR"
      },
      "outputs": [],
      "source": [
        "your_dataset_path_on_googledrive = \"my-project-name\""
      ]
    },
    {
      "cell_type": "markdown",
      "source": [
        "拷貝數據，這個過程可能會需要 1~5 分鐘，具體時間取決於文件夾大小："
      ],
      "metadata": {
        "id": "FhOlC9sdyS8O"
      }
    },
    {
      "cell_type": "code",
      "execution_count": null,
      "metadata": {
        "id": "uKN6iylfUoWR"
      },
      "outputs": [],
      "source": [
        "import shutil\n",
        "\n",
        "shutil.copytree(\n",
        "    \"/content/gdrive/My Drive/\" + your_dataset_path_on_googledrive + \"/\", \n",
        "    \"/content/toolkit/data/custom/\" + your_dataset_path_on_googledrive + \"/\"\n",
        ")"
      ]
    },
    {
      "cell_type": "markdown",
      "source": [
        "檢查文件夾內的數據集是否拷貝完成，運行成功以後，指令下方會出現文件夾中的所有的內容："
      ],
      "metadata": {
        "id": "u4GzvcT3yW5e"
      }
    },
    {
      "cell_type": "code",
      "execution_count": null,
      "metadata": {
        "id": "6Ig5pvSCUoWS"
      },
      "outputs": [],
      "source": [
        "import os\n",
        "\n",
        "os.listdir(\"/content/toolkit/data/custom/\" + your_dataset_path_on_googledrive + \"/\")"
      ]
    },
    {
      "cell_type": "markdown",
      "source": [
        "拷貝完成以後，基於剛剛拷貝的文件夾，生成模型訓練所需要的配置文件\n",
        "\n",
        "將會依次彈出 3 個輸入框，寫入你的項目文件夾名稱(例如my-project-name)，所要訓練的迭代次數(例如100)和使用GPU或者CPU(例如GPU)："
      ],
      "metadata": {
        "id": "mIeGEbkoyeF4"
      }
    },
    {
      "cell_type": "code",
      "execution_count": null,
      "metadata": {
        "id": "07lRepitFj8b"
      },
      "outputs": [],
      "source": [
        "!python generate_conf.py"
      ]
    },
    {
      "cell_type": "markdown",
      "source": [
        "進入模型訓練配置文件所在的文件夾中並開始訓練模型："
      ],
      "metadata": {
        "id": "cWxqNtl9zZPN"
      }
    },
    {
      "cell_type": "code",
      "source": [
        "import os\n",
        "os.chdir(\"conf/\" + your_dataset_path_on_googledrive)\n",
        "\n",
        "# 開始訓練模型\n",
        "!python train.py"
      ],
      "metadata": {
        "id": "ah9G3OBmzIOh"
      },
      "execution_count": null,
      "outputs": []
    },
    {
      "cell_type": "markdown",
      "source": [
        "運行到設定的迭代次數自動結束訓練或者運行到一定精度後，手動結束訓練。"
      ],
      "metadata": {
        "id": "PiY1vaDKzjVY"
      }
    },
    {
      "cell_type": "markdown",
      "source": [
        "## **三、模型測試**"
      ],
      "metadata": {
        "id": "JSwSkmeH0MI5"
      }
    },
    {
      "cell_type": "markdown",
      "source": [
        "模型測試並查看效果："
      ],
      "metadata": {
        "id": "DyxOBfKCpllJ"
      }
    },
    {
      "cell_type": "code",
      "source": [
        "# 模型測試\n",
        "!bash test-train.sh\n",
        "\n",
        "# 將測試的圖片拷貝至 Google Drive 中，查看效果\n",
        "import shutil\n",
        "shutil.copyfile(\n",
        "    \"/content/toolkit/out/\" + your_dataset_path_on_googledrive + \"/predictions.jpg\", \n",
        "    \"/content/gdrive/My Drive/\" + your_dataset_path_on_googledrive + \"_test.jpg\"\n",
        ")"
      ],
      "metadata": {
        "id": "eb9PySVf-b5S"
      },
      "execution_count": null,
      "outputs": []
    },
    {
      "cell_type": "markdown",
      "source": [
        "## **四、導出模型**"
      ],
      "metadata": {
        "id": "XkDmIk_u04dl"
      }
    },
    {
      "cell_type": "markdown",
      "source": [
        "運行模型導出工具並檢查模型是否生成："
      ],
      "metadata": {
        "id": "TOGvqKeypZsH"
      }
    },
    {
      "cell_type": "code",
      "execution_count": null,
      "metadata": {
        "id": "ZIBie0n3UoWS"
      },
      "outputs": [],
      "source": [
        "# 運行模型導出工具\n",
        "!bash export.sh\n",
        "\n",
        "# 檢查模型是否生成，如果生成了，將會有一個後綴名爲 `.bin`和一個後綴名爲 `.param` 的文件\n",
        "import os\n",
        "os.chdir(\"../../out/\" + your_dataset_path_on_googledrive + \"/model\")\n",
        "!ls ./"
      ]
    },
    {
      "cell_type": "markdown",
      "source": [
        "回到工具包文件夾主目錄下將導出的模型文件壓縮包拷貝至你的 Google Drive 中，並在彈出框內，寫下項目名稱："
      ],
      "metadata": {
        "id": "Z1MRksVM1G5q"
      }
    },
    {
      "cell_type": "code",
      "source": [
        "# 回到工具包文件夾主目錄下\n",
        "%cd ../../../\n",
        "\n",
        "# 执行拷貝程式\n",
        "!python copy_to_googledrive.py"
      ],
      "metadata": {
        "id": "f-NJUYtAtLrr"
      },
      "execution_count": null,
      "outputs": []
    },
    {
      "cell_type": "markdown",
      "source": [
        "運行完成以後，前往你的 Google Drive 根目錄下檢查是否有該壓縮包，並將該壓縮包下載到電腦上。"
      ],
      "metadata": {
        "id": "A3ZUelQF1-qL"
      }
    }
  ],
  "metadata": {
    "colab": {
      "provenance": [],
      "gpuType": "T4"
    },
    "kernelspec": {
      "display_name": "Python 3.8.5 64-bit",
      "language": "python",
      "name": "python3"
    },
    "language_info": {
      "name": "python",
      "version": "3.8.5"
    },
    "vscode": {
      "interpreter": {
        "hash": "ffbfc792e496a15b6b750fac43e7a9afdc7c26545a7abda9dc172ad3cb978227"
      }
    },
    "accelerator": "GPU",
    "gpuClass": "standard"
  },
  "nbformat": 4,
  "nbformat_minor": 0
}